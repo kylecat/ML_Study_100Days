{
 "cells": [
  {
   "cell_type": "markdown",
   "metadata": {},
   "source": [
    "## [作業目標]\n",
    "了解機器學習適合應用的領域與範疇。"
   ]
  },
  {
   "cell_type": "markdown",
   "metadata": {},
   "source": [
    "## [作業重點]\n",
    "透過瞭解機器學習的運作方式，找出非常適用機器學習應用的領域及其原因"
   ]
  },
  {
   "cell_type": "markdown",
   "metadata": {},
   "source": [
    "## 作業\n",
    "請找出一個你認為機器學習可以發光發熱的領域並闡述原因? "
   ]
  },
  {
   "cell_type": "code",
   "execution_count": null,
   "metadata": {},
   "outputs": [],
   "source": [
    "領域：環保領域 -> 環境汙染的變化和影響評估\n",
    "原因：\n",
    "    a.數據量大\n",
    "    b.污染物的濃度變化和其他環境的參數具有物理及化學上的關連性\n",
    "    c.各污染物的增減除了人為影響之外，在自然界也會相互影響\n",
    "    d.污染物生成削減的理論雖然都已經建立，但多處於學術研究成果；實務面只能觀察到趨勢卻無法完全應用理論\n",
    "    e.環境污染的數據需要自動化的分析和判讀工具，人工判讀不符經濟效益(但很重要)"
   ]
  }
 ],
 "metadata": {
  "kernelspec": {
   "display_name": "Python 3",
   "language": "python",
   "name": "python3"
  },
  "language_info": {
   "codemirror_mode": {
    "name": "ipython",
    "version": 3
   },
   "file_extension": ".py",
   "mimetype": "text/x-python",
   "name": "python",
   "nbconvert_exporter": "python",
   "pygments_lexer": "ipython3",
   "version": "3.7.3"
  }
 },
 "nbformat": 4,
 "nbformat_minor": 2
}
