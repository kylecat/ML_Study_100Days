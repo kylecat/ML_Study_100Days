{
 "cells": [
  {
   "cell_type": "markdown",
   "metadata": {},
   "source": [
    "# 作業\n",
    "* 試著想想看, 非監督學習是否有可能使用評價函數 (Metric) 來鑑別好壞呢?  \n",
    "(Hint : 可以分為 \"有目標值\" 與 \"無目標值\" 兩個方向思考)"
   ]
  },
  {
   "cell_type": "markdown",
   "execution_count": null,
   "metadata": {},
   "outputs": [],
   "source": [
    "作業1：請觀看 Coursera Andrew Ng 教授的影片。影片裡會講授 unsupervised learning 概念，及會介紹很多其應用場景。\n",
    "\n",
    "[影片](https://www.youtube.com/watch?v=jAA2g9ItoAc&feature=youtu.be)\n",
    "\n",
    "作業2：試著想想看，非監督學習是否有可能使用評價函數 (Metric) 來鑑別好壞呢?\n",
    "(Hint : 可以分為 「有目標值」 與 「無目標值」 兩個方向思考)"
   ]
  },
  {
   "cell_type": "markdown",
   "execution_count": null,
   "metadata": {
    "collapsed": true
   },
   "outputs": [],
   "source": [
    "### Ans:評價函數應該可以用在非監督式學習的成果，"
   ]
  },
  {
   "cell_type": "markdown",
   "execution_count": 1,
   "metadata": {},
   "outputs": [
    {
     "ename": "SyntaxError",
     "evalue": "invalid character in identifier (<ipython-input-1-06336e567a1a>, line 1)",
     "output_type": "error",
     "traceback": [
      "\u001b[1;36m  File \u001b[1;32m\"<ipython-input-1-06336e567a1a>\"\u001b[1;36m, line \u001b[1;32m1\u001b[0m\n\u001b[1;33m    在訓練時不給予label讓模型自行判斷結果是非監督式學習的特色，而評價函數是當模型編譯後用來作為評估模型的性能\u001b[0m\n\u001b[1;37m                                                          ^\u001b[0m\n\u001b[1;31mSyntaxError\u001b[0m\u001b[1;31m:\u001b[0m invalid character in identifier\n"
     ]
    }
   ],
   "source": [
    "* 在訓練時不給予label讓模型自行判斷結果是非監督式學習的特色，而評價函數是當模型編譯後用來作為評估模型的性能\n",
    "* 評價函數的結果不會用於訓練的過程中(重點)"
   ]
  },
  {
   "cell_type": "code",
   "execution_count": null,
   "metadata": {},
   "outputs": [],
   "source": []
  }
 ],
 "metadata": {
  "kernelspec": {
   "display_name": "Python 3",
   "language": "python",
   "name": "python3"
  },
  "language_info": {
   "codemirror_mode": {
    "name": "ipython",
    "version": 3
   },
   "file_extension": ".py",
   "mimetype": "text/x-python",
   "name": "python",
   "nbconvert_exporter": "python",
   "pygments_lexer": "ipython3",
   "version": "3.7.3-final"
  }
 },
 "nbformat": 4,
 "nbformat_minor": 1
}