{
 "cells": [
  {
   "cell_type": "markdown",
   "metadata": {},
   "source": [
    "## 練習時間\n",
    "相信大家對回歸問題及分類問題都有初步的了解。今天的作業希望大家搜尋有關 multi-label 的案例問題。下圖是電影 \"奇異博士\" 的分類。可以看到同時有 \"Action\", \"Adventure\", \"Fantasy\" 的類別存在，代表這是個多標籤的問題。 "
   ]
  },
  {
   "cell_type": "markdown",
   "metadata": {},
   "source": [
    "![image](https://cdn-images-1.medium.com/max/1000/1*r0gYXMSQf5VhdMyl2bRDyg.png)"
   ]
  },
  {
   "cell_type": "markdown",
   "metadata": {},
   "source": [
    "## 請搜尋目標為多標籤問題 (Multi-label) 的機器學習案例，了解其資料來源、目標以及評估指標為何\n",
    "## Hint: 服飾"
   ]
  },
  {
   "cell_type": "markdown",
   "metadata": {},
   "source": [
    "* 案例分析：\"Stackoverflow question-anwers\"\n",
    "* 資料來源：kaggle [Questions from Cross Validated Stack Exchange](https://www.kaggle.com/stackoverflow/statsquestions)\n",
    "* 參考資料：[Understanding Multi-Label classification model and accuracy metrics](https://medium.com/towards-artificial-intelligence/understanding-multi-label-classification-model-and-accuracy-metrics-1b2a8e2648ca)"
   ]
  },
  {
   "cell_type": "markdown",
   "metadata": {},
   "source": [
    "* 目標：\n",
    "    - 從Stackoverflow上所提問的問題標題跟內文來預測該問題應屬於的tag"
   ]
  },
  {
   "cell_type": "markdown",
   "metadata": {},
   "source": [
    "* **分析方法**:\n",
    "    - **Binary Relevance Scheme**<br>\n",
    "      + 所有標籤都是為一個類別，讓待分類的提問簡化成二進位的字串，1為包含該類標籤；<br>\n",
    "      + 逐一確認待分類提問包含哪些標籤，但這樣需針對每一個標籤類別建立一個model，當標籤數量很多時反而過於繁瑣耗時。<br>\n",
    "      + 這個分類方式沒有考慮到標籤之間的相關性。\n",
    "    - **Classifier Chain Scheme**<br>\n",
    "      + 如果標籤之間具有相關性，則可以利用前一個歸類的標籤結果作為子類別的分類依據，這樣的分類鍊型態可以加速分類速度。<br>\n",
    "      + 雖然能把標籤之間的相關性考慮進去，但當標籤種類過多時則容易過於複雜，同時產生高維度的問題\n",
    "       - Ensemble of Classifier chains (ECC):<br>\n",
    "         類似隨機森林分類，隨機使用不同分類鍊；以整體多數的投票實現預測輸出\n",
    "       - Monte-Carlo Classifier chains (MCC):<br>\n",
    "         用蒙特卡羅*Monte-Carlo*方法進行最佳化的分類序列產生器\n",
    "    - **Label power-set Scheme**<br>\n",
    "      + 類似Binary Relevance Scheme，但進一步把提問的標籤組合組成一個類別\n",
    "    "
   ]
  },
  {
   "cell_type": "markdown",
   "metadata": {},
   "source": [
    "* **評估的指標：**<br>\n",
    "      一般分類方法的評估方式是以比例來求出：*正確分類數量* / *總數量* <br>\n",
    "      但在多類別分類方面，對於類似分類結果部分正確的情況無法使用\n",
    "    - **Hamming Loss Metric:**<br>\n",
    "      計算分類期間 binary string of class labels的生成損失，數值越小代表model效率越高(數值範圍0-1)\n",
    "    - **Subset Accuracy**"
   ]
  },
  {
   "cell_type": "code",
   "execution_count": null,
   "metadata": {},
   "outputs": [],
   "source": []
  },
  {
   "cell_type": "code",
   "execution_count": null,
   "metadata": {},
   "outputs": [],
   "source": []
  }
 ],
 "metadata": {
  "kernelspec": {
   "display_name": "Python 3",
   "language": "python",
   "name": "python3"
  },
  "language_info": {
   "codemirror_mode": {
    "name": "ipython",
    "version": 3
   },
   "file_extension": ".py",
   "mimetype": "text/x-python",
   "name": "python",
   "nbconvert_exporter": "python",
   "pygments_lexer": "ipython3",
   "version": "3.7.3"
  }
 },
 "nbformat": 4,
 "nbformat_minor": 2
}
