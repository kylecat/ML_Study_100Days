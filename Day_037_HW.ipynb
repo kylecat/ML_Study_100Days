{
 "cells": [
  {
   "cell_type": "markdown",
   "metadata": {},
   "source": [
    "## [作業重點]\n",
    "了解線性回歸的模型發展歷程，並了解優勢與劣勢，以及其使用情境"
   ]
  },
  {
   "cell_type": "markdown",
   "metadata": {},
   "source": [
    "## 作業"
   ]
  },
  {
   "cell_type": "markdown",
   "metadata": {},
   "source": [
    "請閱讀以下相關文獻，並回答以下問題\n",
    "\n",
    "[Linear Regression 詳細介紹](https://brohrer.mcknote.com/zh-Hant/how_machine_learning_works/how_linear_regression_works.html)\n",
    "\n",
    "[Logistics Regression 詳細介紹](https://medium.com/@yehjames/%E8%B3%87%E6%96%99%E5%88%86%E6%9E%90-%E6%A9%9F%E5%99%A8%E5%AD%B8%E7%BF%92-%E7%AC%AC3-3%E8%AC%9B-%E7%B7%9A%E6%80%A7%E5%88%86%E9%A1%9E-%E9%82%8F%E8%BC%AF%E6%96%AF%E5%9B%9E%E6%AD%B8-logistic-regression-%E4%BB%8B%E7%B4%B9-a1a5f47017e5)\n",
    "\n",
    "[你可能不知道的 Logistic Regression](https://taweihuang.hpd.io/2017/12/22/logreg101/)\n",
    "\n",
    "### 參考文獻\n",
    "[超人氣 Stanford 教授 Andrew Ng 教你 Linear regression](https://zh-tw.coursera.org/lecture/machine-learning/model-representation-db3jS)\n",
    "\n",
    "[Logistic regression 數學原理](https://blog.csdn.net/qq_23269761/article/details/81778585)\n"
   ]
  },
  {
   "cell_type": "markdown",
   "metadata": {},
   "source": [
    "1. 線性回歸模型能夠準確預測非線性關係的資料集嗎?\n",
    "2. 回歸模型是否對資料分布有基本假設?\n"
   ]
  },
  {
   "cell_type": "markdown",
   "execution_count": null,
   "metadata": {},
   "outputs": [],
   "source": [
    "## 問題一: 線性回歸模型能夠準確預測非線性關係的資料集嗎?\n",
    "- 答:<br>\n",
    "    不行。<br>\n",
    "    非線性關係的資料集無法得到適合的線性回歸模型，因此無法預測。\n",
    "\n",
    "## 問題二: 回歸模型是否對資料分布有基本假設?\n",
    "- 答<br>\n",
    "    1. 在依賴（響應）變量和獨立（預測變量）變量之間應該存在線性和相加關係。線性關係表明，無論X 1的值如何，由於X 1的一個單位變化引起的響應Y的變化是恆定的。加性關係表明X 1對Y的影響與其他變量無關。\n",
    "    2. 殘差（誤差）項之間應該沒有相關性。沒有這種現象稱為自相關。\n",
    "    3. 不應將自變量相關聯。沒有這種現像被稱為多重共線性。\n",
    "    4. 錯誤必須具有恆定的方差。這種現象稱為同方差性。非常數方差的存在被稱為異方差性。\n",
    "    5. 錯誤必須是正態分佈的\n",
    "    \n",
    "\n"
   ]
  },
  {
   "cell_type": "code",
   "execution_count": null,
   "metadata": {},
   "outputs": [],
   "source": []
  }
 ],
 "metadata": {
  "kernelspec": {
   "display_name": "Python 3",
   "language": "python",
   "name": "python3"
  },
  "language_info": {
   "codemirror_mode": {
    "name": "ipython",
    "version": 3
   },
   "file_extension": ".py",
   "mimetype": "text/x-python",
   "name": "python",
   "nbconvert_exporter": "python",
   "pygments_lexer": "ipython3",
   "version": "3.6.2"
  }
 },
 "nbformat": 4,
 "nbformat_minor": 2
}